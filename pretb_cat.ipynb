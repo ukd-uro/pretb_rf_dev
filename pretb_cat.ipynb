{
 "cells": [
  {
   "cell_type": "markdown",
   "id": "fa2c5df0",
   "metadata": {},
   "source": [
    "# Algorithm Training and Testing"
   ]
  },
  {
   "cell_type": "code",
   "execution_count": 1,
   "id": "c8419355",
   "metadata": {},
   "outputs": [],
   "source": [
    "# Import libraries\n",
    "import numpy as np\n",
    "import pandas as pd\n",
    "import matplotlib.pyplot as plt\n",
    "from sklearn.preprocessing import OrdinalEncoder\n",
    "from sklearn.impute import SimpleImputer\n",
    "from sklearn.model_selection import train_test_split\n",
    "from sklearn.tree import DecisionTreeClassifier\n",
    "from sklearn.ensemble import RandomForestClassifier\n",
    "from sklearn.neighbors import KNeighborsClassifier\n",
    "from sklearn.metrics import multilabel_confusion_matrix\n",
    "from sklearn.metrics import classification_report\n",
    "from sklearn.metrics import accuracy_score, precision_score, recall_score, f1_score\n",
    "from sklearn.utils import resample"
   ]
  },
  {
   "cell_type": "code",
   "execution_count": 2,
   "id": "a32b343f",
   "metadata": {},
   "outputs": [],
   "source": [
    "# Initialize variables\n",
    "random_state = 6\n",
    "test_size = 0.2\n",
    "db_file = 'your_databse.csv'\n",
    "split_date = '2020-01-01'"
   ]
  },
  {
   "cell_type": "code",
   "execution_count": 3,
   "id": "2164bc7c",
   "metadata": {},
   "outputs": [],
   "source": [
    "# Load data into data frame\n",
    "df = pd.read_csv(db_file,\n",
    "                 encoding=\"utf-8\",\n",
    "                 sep=\";\",\n",
    "                 header=0\n",
    "                )"
   ]
  },
  {
   "cell_type": "code",
   "execution_count": 4,
   "id": "dac9f31d",
   "metadata": {},
   "outputs": [],
   "source": [
    "# Include only most recent tumor boards to reflect current tumorboard guidelines\n",
    "df['pretb_date'] = pd.to_datetime(df['pretb_date'], dayfirst=True)\n",
    "df = df.loc[df['pretb_date'] > split_date]"
   ]
  },
  {
   "cell_type": "code",
   "execution_count": 5,
   "id": "ad7ba2d7",
   "metadata": {},
   "outputs": [
    {
     "name": "stdout",
     "output_type": "stream",
     "text": [
      "<class 'pandas.core.frame.DataFrame'>\n",
      "Index: 1929 entries, 5050 to 6978\n",
      "Data columns (total 33 columns):\n",
      " #   Column          Non-Null Count  Dtype         \n",
      "---  ------          --------------  -----         \n",
      " 0   pid             1929 non-null   object        \n",
      " 1   pretb_date      1929 non-null   datetime64[ns]\n",
      " 2   birth_date      1929 non-null   object        \n",
      " 3   age             1929 non-null   int64         \n",
      " 4   psa             1854 non-null   float64       \n",
      " 5   dre             1922 non-null   object        \n",
      " 6   gleason_1       1919 non-null   float64       \n",
      " 7   gleason_2       1919 non-null   float64       \n",
      " 8   gleason_sum     1919 non-null   float64       \n",
      " 9   isup            1919 non-null   float64       \n",
      " 10  cylinder_total  1837 non-null   float64       \n",
      " 11  cylinder_pos    1836 non-null   float64       \n",
      " 12  site            1732 non-null   object        \n",
      " 13  pretb_text      1929 non-null   object        \n",
      " 14  bs              1929 non-null   bool          \n",
      " 15  ct              1929 non-null   bool          \n",
      " 16  conv_staging    1929 non-null   bool          \n",
      " 17  mri             1929 non-null   bool          \n",
      " 18  psma            1929 non-null   bool          \n",
      " 19  rp_rt           1929 non-null   bool          \n",
      " 20  adt             1929 non-null   bool          \n",
      " 21  rp              1929 non-null   bool          \n",
      " 22  rp_ns           1929 non-null   bool          \n",
      " 23  lad             1929 non-null   bool          \n",
      " 24  rt              1929 non-null   bool          \n",
      " 25  law             1929 non-null   bool          \n",
      " 26  brachy          1929 non-null   bool          \n",
      " 27  as              1929 non-null   bool          \n",
      " 28  ht              1929 non-null   bool          \n",
      " 29  dm              1929 non-null   bool          \n",
      " 30  cad             1929 non-null   bool          \n",
      " 31  bmi             1929 non-null   bool          \n",
      " 32  preop           1929 non-null   bool          \n",
      "dtypes: bool(19), datetime64[ns](1), float64(7), int64(1), object(5)\n",
      "memory usage: 261.8+ KB\n"
     ]
    }
   ],
   "source": [
    "df.info()"
   ]
  },
  {
   "cell_type": "code",
   "execution_count": 6,
   "id": "7e798340",
   "metadata": {},
   "outputs": [],
   "source": [
    "ord_enc = OrdinalEncoder()"
   ]
  },
  {
   "cell_type": "code",
   "execution_count": 7,
   "id": "d55d5b57",
   "metadata": {},
   "outputs": [],
   "source": [
    "# Convert categorical variables from text to numerical\n",
    "df['dre'] = ord_enc.fit_transform(df[['dre']])\n",
    "df['site'] = ord_enc.fit_transform(df[['site']])"
   ]
  },
  {
   "cell_type": "code",
   "execution_count": 8,
   "id": "5f006b0b",
   "metadata": {},
   "outputs": [],
   "source": [
    "# Define features and outcomes\n",
    "feature_cols = ['age', \"psa\", \"dre\", 'site', \"isup\", \"cylinder_pos\", \"cylinder_total\", 'ht', 'dm', 'cad', 'bmi', 'preop']\n",
    "outcome_cols = [\"psma\", 'conv_staging', \"as\", 'rp_rt']\n",
    "X = df[feature_cols]\n",
    "y = df[outcome_cols]"
   ]
  },
  {
   "cell_type": "code",
   "execution_count": 9,
   "id": "f4e9102b",
   "metadata": {},
   "outputs": [],
   "source": [
    "# Stratification of train test split according to outcomes with lowest numbers\n",
    "y_strat = y.loc[:, ['psma', 'as']]"
   ]
  },
  {
   "cell_type": "code",
   "execution_count": 10,
   "id": "d32a94fc",
   "metadata": {},
   "outputs": [],
   "source": [
    "# Split data\n",
    "X_train, X_test, y_train, y_test = train_test_split(X, y, test_size=test_size, stratify=y_strat, random_state=random_state)"
   ]
  },
  {
   "cell_type": "code",
   "execution_count": 11,
   "id": "fbf7b366",
   "metadata": {},
   "outputs": [],
   "source": [
    "# Impute missing values for continuous variables using median of training set\n",
    "imp1 = SimpleImputer(missing_values=np.nan, strategy='median')\n",
    "\n",
    "# Fit and transform on training set\n",
    "X_train['psa'] = imp1.fit_transform(X_train[['psa']])\n",
    "X_train['cylinder_pos'] = imp1.fit_transform(X_train[['cylinder_pos']])\n",
    "X_train['cylinder_total'] = imp1.fit_transform(X_train[['cylinder_total']])\n",
    "\n",
    "# Transform on test set\n",
    "X_test['psa'] = imp1.fit_transform(X_test[['psa']])\n",
    "X_test['cylinder_pos'] = imp1.fit_transform(X_test[['cylinder_pos']])\n",
    "X_test['cylinder_total'] = imp1.fit_transform(X_test[['cylinder_total']])"
   ]
  },
  {
   "cell_type": "code",
   "execution_count": 12,
   "id": "35b2170a",
   "metadata": {},
   "outputs": [],
   "source": [
    "# Impute missing values for categorial variables using most frequent in training set\n",
    "imp2 = SimpleImputer(missing_values=np.nan, strategy='most_frequent')\n",
    "\n",
    "# Fit and transform on training set\n",
    "X_train['isup'] = imp2.fit_transform(X_train[['isup']])\n",
    "X_train['site'] = imp2.fit_transform(X_train[['site']])\n",
    "X_train['dre'] = imp2.fit_transform(X_train[['dre']])\n",
    "\n",
    "# Transform on test set\n",
    "X_test['isup'] = imp2.fit_transform(X_test[['isup']])\n",
    "X_test['site'] = imp2.fit_transform(X_test[['site']])\n",
    "X_test['dre'] = imp2.fit_transform(X_test[['dre']])"
   ]
  },
  {
   "cell_type": "code",
   "execution_count": 13,
   "id": "f47b6a4f",
   "metadata": {},
   "outputs": [],
   "source": [
    "# Train DecisionTree model\n",
    "dt_clf = DecisionTreeClassifier(max_leaf_nodes=50, criterion=\"entropy\", random_state=random_state)\n",
    "dt_clf.fit(X_train, y_train)\n",
    "y_pred = dt_clf.predict(X_test)"
   ]
  },
  {
   "cell_type": "code",
   "execution_count": 14,
   "id": "e572d1ff",
   "metadata": {},
   "outputs": [
    {
     "data": {
      "text/plain": [
       "array([[[314,  14],\n",
       "        [ 47,  11]],\n",
       "\n",
       "       [[282,  13],\n",
       "        [ 64,  27]],\n",
       "\n",
       "       [[351,  12],\n",
       "        [  3,  20]],\n",
       "\n",
       "       [[  0,   2],\n",
       "        [  2, 382]]], dtype=int64)"
      ]
     },
     "execution_count": 14,
     "metadata": {},
     "output_type": "execute_result"
    }
   ],
   "source": [
    "multilabel_confusion_matrix(y_test, y_pred)"
   ]
  },
  {
   "cell_type": "code",
   "execution_count": 15,
   "id": "9e79b3e9",
   "metadata": {},
   "outputs": [
    {
     "name": "stdout",
     "output_type": "stream",
     "text": [
      "Accuracy :  0.6839378238341969\n"
     ]
    }
   ],
   "source": [
    "print (\"Accuracy : \", accuracy_score(y_test, y_pred))"
   ]
  },
  {
   "cell_type": "code",
   "execution_count": 16,
   "id": "4011afa6",
   "metadata": {},
   "outputs": [
    {
     "name": "stdout",
     "output_type": "stream",
     "text": [
      "              precision    recall  f1-score   support\n",
      "\n",
      "        psma       0.44      0.19      0.27        58\n",
      "conv_staging       0.68      0.30      0.41        91\n",
      "          as       0.62      0.87      0.73        23\n",
      "       rp_rt       0.99      0.99      0.99       384\n",
      "\n",
      "   micro avg       0.91      0.79      0.85       556\n",
      "   macro avg       0.68      0.59      0.60       556\n",
      "weighted avg       0.87      0.79      0.81       556\n",
      " samples avg       0.95      0.87      0.88       556\n",
      "\n"
     ]
    },
    {
     "name": "stderr",
     "output_type": "stream",
     "text": [
      "c:\\Users\\sheri\\anaconda3\\envs\\datascience\\Lib\\site-packages\\sklearn\\metrics\\_classification.py:1531: UndefinedMetricWarning: Recall is ill-defined and being set to 0.0 in samples with no true labels. Use `zero_division` parameter to control this behavior.\n",
      "  _warn_prf(average, modifier, f\"{metric.capitalize()} is\", len(result))\n"
     ]
    }
   ],
   "source": [
    "print(classification_report(y_test, y_pred, target_names=outcome_cols))"
   ]
  },
  {
   "cell_type": "code",
   "execution_count": 17,
   "id": "50c46fe1",
   "metadata": {},
   "outputs": [],
   "source": [
    "# Train RandomForest model\n",
    "rnd_clf = RandomForestClassifier(n_estimators=100, criterion=\"entropy\", random_state=random_state)\n",
    "\n",
    "rnd_clf.fit(X_train, y_train)\n",
    "\n",
    "y_pred = rnd_clf.predict(X_test)"
   ]
  },
  {
   "cell_type": "code",
   "execution_count": 18,
   "id": "2927be28",
   "metadata": {},
   "outputs": [
    {
     "data": {
      "text/plain": [
       "array([[[308,  20],\n",
       "        [ 40,  18]],\n",
       "\n",
       "       [[283,  12],\n",
       "        [ 58,  33]],\n",
       "\n",
       "       [[357,   6],\n",
       "        [  5,  18]],\n",
       "\n",
       "       [[  0,   2],\n",
       "        [  0, 384]]], dtype=int64)"
      ]
     },
     "execution_count": 18,
     "metadata": {},
     "output_type": "execute_result"
    }
   ],
   "source": [
    "multilabel_confusion_matrix(y_test, y_pred)"
   ]
  },
  {
   "cell_type": "code",
   "execution_count": 19,
   "id": "cd66e7ef",
   "metadata": {},
   "outputs": [
    {
     "name": "stdout",
     "output_type": "stream",
     "text": [
      "Accuracy :  0.6994818652849741\n"
     ]
    }
   ],
   "source": [
    "print (\"Accuracy : \", accuracy_score(y_test, y_pred))"
   ]
  },
  {
   "cell_type": "code",
   "execution_count": 20,
   "id": "810b5db9",
   "metadata": {},
   "outputs": [
    {
     "name": "stdout",
     "output_type": "stream",
     "text": [
      "              precision    recall  f1-score   support\n",
      "\n",
      "        psma       0.47      0.31      0.38        58\n",
      "conv_staging       0.73      0.36      0.49        91\n",
      "          as       0.75      0.78      0.77        23\n",
      "       rp_rt       0.99      1.00      1.00       384\n",
      "\n",
      "   micro avg       0.92      0.81      0.86       556\n",
      "   macro avg       0.74      0.61      0.66       556\n",
      "weighted avg       0.89      0.81      0.84       556\n",
      " samples avg       0.95      0.88      0.89       556\n",
      "\n"
     ]
    },
    {
     "name": "stderr",
     "output_type": "stream",
     "text": [
      "c:\\Users\\sheri\\anaconda3\\envs\\datascience\\Lib\\site-packages\\sklearn\\metrics\\_classification.py:1531: UndefinedMetricWarning: Recall is ill-defined and being set to 0.0 in samples with no true labels. Use `zero_division` parameter to control this behavior.\n",
      "  _warn_prf(average, modifier, f\"{metric.capitalize()} is\", len(result))\n"
     ]
    }
   ],
   "source": [
    "print(classification_report(y_test, y_pred, target_names=outcome_cols))"
   ]
  },
  {
   "cell_type": "code",
   "execution_count": 21,
   "id": "3298d184",
   "metadata": {},
   "outputs": [],
   "source": [
    "# Train KNN model\n",
    "knn_clf = KNeighborsClassifier()\n",
    "\n",
    "knn_clf.fit(X_train, y_train)\n",
    "\n",
    "y_pred = knn_clf.predict(X_test)"
   ]
  },
  {
   "cell_type": "code",
   "execution_count": 22,
   "id": "32fff995",
   "metadata": {},
   "outputs": [
    {
     "data": {
      "text/plain": [
       "array([[[317,  11],\n",
       "        [ 47,  11]],\n",
       "\n",
       "       [[273,  22],\n",
       "        [ 56,  35]],\n",
       "\n",
       "       [[363,   0],\n",
       "        [ 20,   3]],\n",
       "\n",
       "       [[  0,   2],\n",
       "        [  0, 384]]], dtype=int64)"
      ]
     },
     "execution_count": 22,
     "metadata": {},
     "output_type": "execute_result"
    }
   ],
   "source": [
    "multilabel_confusion_matrix(y_test, y_pred)"
   ]
  },
  {
   "cell_type": "code",
   "execution_count": 23,
   "id": "407c998a",
   "metadata": {},
   "outputs": [
    {
     "name": "stdout",
     "output_type": "stream",
     "text": [
      "Accuracy :  0.6658031088082902\n"
     ]
    }
   ],
   "source": [
    "print (\"Accuracy : \", accuracy_score(y_test, y_pred))"
   ]
  },
  {
   "cell_type": "code",
   "execution_count": 24,
   "id": "7c3d849a",
   "metadata": {},
   "outputs": [
    {
     "name": "stdout",
     "output_type": "stream",
     "text": [
      "              precision    recall  f1-score   support\n",
      "\n",
      "        psma       0.50      0.19      0.28        58\n",
      "conv_staging       0.61      0.38      0.47        91\n",
      "          as       1.00      0.13      0.23        23\n",
      "       rp_rt       0.99      1.00      1.00       384\n",
      "\n",
      "   micro avg       0.93      0.78      0.85       556\n",
      "   macro avg       0.78      0.43      0.49       556\n",
      "weighted avg       0.88      0.78      0.80       556\n",
      " samples avg       0.96      0.85      0.88       556\n",
      "\n"
     ]
    },
    {
     "name": "stderr",
     "output_type": "stream",
     "text": [
      "c:\\Users\\sheri\\anaconda3\\envs\\datascience\\Lib\\site-packages\\sklearn\\metrics\\_classification.py:1531: UndefinedMetricWarning: Recall is ill-defined and being set to 0.0 in samples with no true labels. Use `zero_division` parameter to control this behavior.\n",
      "  _warn_prf(average, modifier, f\"{metric.capitalize()} is\", len(result))\n"
     ]
    }
   ],
   "source": [
    "print(classification_report(y_test, y_pred, target_names=outcome_cols))"
   ]
  },
  {
   "cell_type": "code",
   "execution_count": 25,
   "id": "1b87c196",
   "metadata": {},
   "outputs": [],
   "source": [
    "# Create test sample for model out evaluation\n",
    "test_sample = X_test.iloc[13, :].to_frame().transpose()\n",
    "test_output = rnd_clf.predict(test_sample)"
   ]
  },
  {
   "cell_type": "code",
   "execution_count": 26,
   "id": "a0e21bbf",
   "metadata": {},
   "outputs": [],
   "source": [
    "def convert_output(output):\n",
    "    psma_string = \"Bevorzugt PSMA-PET-CT. Alternativ Ganzkörperknochenszintigraphie und CT-Abdomen und Becken. \"\n",
    "    ct_scintigraphy_string = \"Ganzkörperknochenszintigraphie und CT-Abdomen und Becken.\"\n",
    "    as_string = \"Der Patient erfüllt die Kriterien für eine aktive Überwachung. Falls eine definitive Therapie erwünscht ist, Angebot einer radikalen Prostatektomie oder alternativ perkutane Strahlentherapie.\"\n",
    "    rp_rt_string = \"Indikation zur radikalen Prostatektomie. Alternativ perkutane Strahlentherapie.\"\n",
    "    \n",
    "    output_string = \"\"\n",
    "    \n",
    "    if output[0] == 1:\n",
    "        # PSMA\n",
    "        output_string += psma_string\n",
    "\n",
    "    if output[1] == 1:\n",
    "        # CT and bone scintigraphy\n",
    "        if output[0] == 0:\n",
    "            output_string += ct_scintigraphy_string\n",
    "            \n",
    "    if output[2] == 1:\n",
    "        # Active Surveillance\n",
    "        output_string += as_string\n",
    "\n",
    "    if output[3] == 1:\n",
    "        # Radical prostatectomy and radiation therapy\n",
    "        if output[2] == 0:\n",
    "            output_string += rp_rt_string\n",
    "    \n",
    "    return output_string"
   ]
  },
  {
   "cell_type": "code",
   "execution_count": 27,
   "id": "f3b5fe3f",
   "metadata": {},
   "outputs": [],
   "source": [
    "test_output = test_output[0]\n",
    "output_string = convert_output(test_output)"
   ]
  },
  {
   "cell_type": "code",
   "execution_count": 28,
   "id": "957ea7ae",
   "metadata": {},
   "outputs": [
    {
     "name": "stdout",
     "output_type": "stream",
     "text": [
      "[False False False  True]\n",
      "Indikation zur radikalen Prostatektomie. Alternativ perkutane Strahlentherapie.\n"
     ]
    }
   ],
   "source": [
    "print(test_output)\n",
    "print(output_string)"
   ]
  },
  {
   "cell_type": "markdown",
   "id": "9e0a6408",
   "metadata": {},
   "source": [
    "# Statistics"
   ]
  },
  {
   "cell_type": "code",
   "execution_count": 29,
   "id": "98ab7570",
   "metadata": {},
   "outputs": [],
   "source": [
    "from tqdm import tqdm"
   ]
  },
  {
   "cell_type": "code",
   "execution_count": 30,
   "id": "3c1c7c14",
   "metadata": {},
   "outputs": [],
   "source": [
    "\n",
    "def bootstrap(X, y, model, metric, n_iterations):\n",
    "    accuracy_list = []\n",
    "    for i in tqdm(range(n_iterations)):\n",
    "        X_bs, y_bs = resample(X, y, replace=True)\n",
    "        # make predictions\n",
    "        y_hat = model.predict(X_bs)\n",
    "        # evaluate model\n",
    "        accuracy = metric(y_bs, y_hat)\n",
    "        accuracy_list.append(accuracy)\n",
    "    return accuracy_list"
   ]
  },
  {
   "cell_type": "code",
   "execution_count": 31,
   "id": "d3b11d90",
   "metadata": {},
   "outputs": [],
   "source": [
    "def bootstrap_by_cat(X, y, model, metric, index, n_iterations):\n",
    "    metric_list = []\n",
    "    for i in tqdm(range(n_iterations)):\n",
    "        X_bs, y_bs = resample(X, y, replace=True)\n",
    "        # make predictions\n",
    "        y_hat = pd.DataFrame(model.predict(X_bs))\n",
    "        # evaluate model\n",
    "        metric_value = metric(y_bs.iloc[:, index], y_hat.iloc[:, index])\n",
    "        metric_list.append(metric_value)\n",
    "    return metric_list"
   ]
  },
  {
   "cell_type": "code",
   "execution_count": 32,
   "id": "63c32390",
   "metadata": {},
   "outputs": [],
   "source": [
    "def get_ci(metric):\n",
    "    ci_metrics = []\n",
    "    # get median\n",
    "    median = np.percentile(metric, 50)\n",
    "\n",
    "    # get 95% confidence interval\n",
    "    alpha = 100-95\n",
    "    lower_ci = np.percentile(metric, alpha/2)\n",
    "    upper_ci = np.percentile(metric, 100-alpha/2)\n",
    "\n",
    "    ci_metrics = [median, lower_ci, upper_ci]\n",
    "    return ci_metrics"
   ]
  },
  {
   "cell_type": "code",
   "execution_count": 33,
   "id": "e4e7900d",
   "metadata": {},
   "outputs": [],
   "source": [
    "def show_results(X, y, model, n_iterations):\n",
    "    # Calculate metrics with bootstrapping\n",
    "    accuracy = bootstrap(X, y, model, accuracy_score, n_iterations)\n",
    "\n",
    "    precision_psma = bootstrap_by_cat(X, y, model, precision_score, 0, n_iterations)\n",
    "    precision_conv_staging = bootstrap_by_cat(X, y, model, precision_score, 1, n_iterations)\n",
    "    precision_as = bootstrap_by_cat(X, y, model, precision_score, 2, n_iterations)\n",
    "    precision_rp_rt = bootstrap_by_cat(X, y, model, precision_score, 3, n_iterations)\n",
    "\n",
    "    recall_psma = bootstrap_by_cat(X, y, model, recall_score, 0, n_iterations)\n",
    "    recall_conv_staging = bootstrap_by_cat(X, y, model, recall_score, 1, n_iterations)\n",
    "    recall_as = bootstrap_by_cat(X, y, model, recall_score, 2, n_iterations)\n",
    "    recall_rp_rt = bootstrap_by_cat(X, y, model, recall_score, 3, n_iterations)\n",
    "\n",
    "    f1_psma = bootstrap_by_cat(X, y, model, f1_score, 0, n_iterations)\n",
    "    f1_conv_staging = bootstrap_by_cat(X, y, model, f1_score, 1, n_iterations)\n",
    "    f1_as = bootstrap_by_cat(X, y, model, f1_score, 2, n_iterations)\n",
    "    f1_rp_rt = bootstrap_by_cat(X, y, model, f1_score, 3, n_iterations)\n",
    "\n",
    "    # Prepare results for table\n",
    "    result_columns = ['precision (median)', 'precision (lower 95% CI)', 'precision (upper 95% CI)',\n",
    "                    'recall (median)', 'recall (lower 95% CI)', 'recall (upper 95% CI)',\n",
    "                    'f1_score (median)', 'f1_score (lower 95% CI)', 'f1_score (upper 95% CI)'          \n",
    "                    ]\n",
    "\n",
    "    index_rows = ['PSMA', 'conventional imaging', 'active surveillance', 'radical therapy']\n",
    "\n",
    "    psma_results = np.array([get_ci(precision_psma), get_ci(recall_psma), get_ci(f1_psma)]).ravel()\n",
    "    conv_staging_results = np.array([get_ci(precision_conv_staging), get_ci(recall_conv_staging), get_ci(f1_conv_staging)]).ravel()\n",
    "    as_results = np.array([get_ci(precision_as), get_ci(recall_as), get_ci(f1_as)]).ravel()\n",
    "    rp_rt_results = np.array([get_ci(precision_rp_rt), get_ci(recall_rp_rt), get_ci(f1_rp_rt)]).ravel()\n",
    "\n",
    "    # Create and show results table\n",
    "    result_table = pd.DataFrame([psma_results, conv_staging_results, as_results, rp_rt_results], columns=result_columns, index=index_rows)\n",
    "    return result_table\n",
    "\n",
    "    "
   ]
  },
  {
   "cell_type": "code",
   "execution_count": 34,
   "id": "20fcd8f3",
   "metadata": {},
   "outputs": [
    {
     "name": "stderr",
     "output_type": "stream",
     "text": [
      "100%|██████████| 1000/1000 [00:02<00:00, 398.65it/s]\n"
     ]
    }
   ],
   "source": [
    "dt_acc = bootstrap(X_test, y_test, dt_clf, accuracy_score, 1000)\n",
    "dt_acc_ci = get_ci(dt_acc)"
   ]
  },
  {
   "cell_type": "code",
   "execution_count": 35,
   "id": "5d29164a",
   "metadata": {},
   "outputs": [
    {
     "name": "stdout",
     "output_type": "stream",
     "text": [
      "Decision Tree Classifier Accuracy:\n"
     ]
    },
    {
     "data": {
      "text/html": [
       "<div>\n",
       "<style scoped>\n",
       "    .dataframe tbody tr th:only-of-type {\n",
       "        vertical-align: middle;\n",
       "    }\n",
       "\n",
       "    .dataframe tbody tr th {\n",
       "        vertical-align: top;\n",
       "    }\n",
       "\n",
       "    .dataframe thead th {\n",
       "        text-align: right;\n",
       "    }\n",
       "</style>\n",
       "<table border=\"1\" class=\"dataframe\">\n",
       "  <thead>\n",
       "    <tr style=\"text-align: right;\">\n",
       "      <th></th>\n",
       "      <th>median</th>\n",
       "      <th>lower 95% CI</th>\n",
       "      <th>upper 95% CI</th>\n",
       "    </tr>\n",
       "  </thead>\n",
       "  <tbody>\n",
       "    <tr>\n",
       "      <th>0</th>\n",
       "      <td>0.683938</td>\n",
       "      <td>0.637306</td>\n",
       "      <td>0.73057</td>\n",
       "    </tr>\n",
       "  </tbody>\n",
       "</table>\n",
       "</div>"
      ],
      "text/plain": [
       "     median  lower 95% CI  upper 95% CI\n",
       "0  0.683938      0.637306       0.73057"
      ]
     },
     "execution_count": 35,
     "metadata": {},
     "output_type": "execute_result"
    }
   ],
   "source": [
    "print('Decision Tree Classifier Accuracy:')\n",
    "pd.DataFrame(np.array(dt_acc_ci).reshape(1,3), columns=['median', 'lower 95% CI', 'upper 95% CI'])"
   ]
  },
  {
   "cell_type": "code",
   "execution_count": 36,
   "id": "3b21c19a",
   "metadata": {},
   "outputs": [
    {
     "name": "stderr",
     "output_type": "stream",
     "text": [
      "100%|██████████| 1000/1000 [00:02<00:00, 406.00it/s]\n",
      "100%|██████████| 1000/1000 [00:03<00:00, 287.95it/s]\n",
      "100%|██████████| 1000/1000 [00:03<00:00, 278.48it/s]\n",
      "100%|██████████| 1000/1000 [00:03<00:00, 298.54it/s]\n",
      "100%|██████████| 1000/1000 [00:03<00:00, 305.41it/s]\n",
      "100%|██████████| 1000/1000 [00:03<00:00, 303.58it/s]\n",
      "100%|██████████| 1000/1000 [00:03<00:00, 299.13it/s]\n",
      "100%|██████████| 1000/1000 [00:03<00:00, 302.07it/s]\n",
      "100%|██████████| 1000/1000 [00:03<00:00, 305.99it/s]\n",
      "100%|██████████| 1000/1000 [00:03<00:00, 307.41it/s]\n",
      "100%|██████████| 1000/1000 [00:03<00:00, 303.51it/s]\n",
      "100%|██████████| 1000/1000 [00:03<00:00, 307.52it/s]\n",
      "100%|██████████| 1000/1000 [00:03<00:00, 292.91it/s]\n"
     ]
    },
    {
     "data": {
      "text/html": [
       "<div>\n",
       "<style scoped>\n",
       "    .dataframe tbody tr th:only-of-type {\n",
       "        vertical-align: middle;\n",
       "    }\n",
       "\n",
       "    .dataframe tbody tr th {\n",
       "        vertical-align: top;\n",
       "    }\n",
       "\n",
       "    .dataframe thead th {\n",
       "        text-align: right;\n",
       "    }\n",
       "</style>\n",
       "<table border=\"1\" class=\"dataframe\">\n",
       "  <thead>\n",
       "    <tr style=\"text-align: right;\">\n",
       "      <th></th>\n",
       "      <th>precision (median)</th>\n",
       "      <th>precision (lower 95% CI)</th>\n",
       "      <th>precision (upper 95% CI)</th>\n",
       "      <th>recall (median)</th>\n",
       "      <th>recall (lower 95% CI)</th>\n",
       "      <th>recall (upper 95% CI)</th>\n",
       "      <th>f1_score (median)</th>\n",
       "      <th>f1_score (lower 95% CI)</th>\n",
       "      <th>f1_score (upper 95% CI)</th>\n",
       "    </tr>\n",
       "  </thead>\n",
       "  <tbody>\n",
       "    <tr>\n",
       "      <th>PSMA</th>\n",
       "      <td>0.440000</td>\n",
       "      <td>0.233269</td>\n",
       "      <td>0.633409</td>\n",
       "      <td>0.188543</td>\n",
       "      <td>0.090909</td>\n",
       "      <td>0.288913</td>\n",
       "      <td>0.264221</td>\n",
       "      <td>0.144535</td>\n",
       "      <td>0.385542</td>\n",
       "    </tr>\n",
       "    <tr>\n",
       "      <th>conventional imaging</th>\n",
       "      <td>0.675676</td>\n",
       "      <td>0.526316</td>\n",
       "      <td>0.804878</td>\n",
       "      <td>0.296500</td>\n",
       "      <td>0.202522</td>\n",
       "      <td>0.388235</td>\n",
       "      <td>0.410959</td>\n",
       "      <td>0.305296</td>\n",
       "      <td>0.513899</td>\n",
       "    </tr>\n",
       "    <tr>\n",
       "      <th>active surveillance</th>\n",
       "      <td>0.625000</td>\n",
       "      <td>0.448180</td>\n",
       "      <td>0.791667</td>\n",
       "      <td>0.875000</td>\n",
       "      <td>0.708333</td>\n",
       "      <td>1.000000</td>\n",
       "      <td>0.727273</td>\n",
       "      <td>0.577756</td>\n",
       "      <td>0.852459</td>\n",
       "    </tr>\n",
       "    <tr>\n",
       "      <th>radical therapy</th>\n",
       "      <td>0.994805</td>\n",
       "      <td>0.986979</td>\n",
       "      <td>1.000000</td>\n",
       "      <td>0.994805</td>\n",
       "      <td>0.986944</td>\n",
       "      <td>1.000000</td>\n",
       "      <td>0.994792</td>\n",
       "      <td>0.989529</td>\n",
       "      <td>0.998703</td>\n",
       "    </tr>\n",
       "  </tbody>\n",
       "</table>\n",
       "</div>"
      ],
      "text/plain": [
       "                      precision (median)  precision (lower 95% CI)  \\\n",
       "PSMA                            0.440000                  0.233269   \n",
       "conventional imaging            0.675676                  0.526316   \n",
       "active surveillance             0.625000                  0.448180   \n",
       "radical therapy                 0.994805                  0.986979   \n",
       "\n",
       "                      precision (upper 95% CI)  recall (median)  \\\n",
       "PSMA                                  0.633409         0.188543   \n",
       "conventional imaging                  0.804878         0.296500   \n",
       "active surveillance                   0.791667         0.875000   \n",
       "radical therapy                       1.000000         0.994805   \n",
       "\n",
       "                      recall (lower 95% CI)  recall (upper 95% CI)  \\\n",
       "PSMA                               0.090909               0.288913   \n",
       "conventional imaging               0.202522               0.388235   \n",
       "active surveillance                0.708333               1.000000   \n",
       "radical therapy                    0.986944               1.000000   \n",
       "\n",
       "                      f1_score (median)  f1_score (lower 95% CI)  \\\n",
       "PSMA                           0.264221                 0.144535   \n",
       "conventional imaging           0.410959                 0.305296   \n",
       "active surveillance            0.727273                 0.577756   \n",
       "radical therapy                0.994792                 0.989529   \n",
       "\n",
       "                      f1_score (upper 95% CI)  \n",
       "PSMA                                 0.385542  \n",
       "conventional imaging                 0.513899  \n",
       "active surveillance                  0.852459  \n",
       "radical therapy                      0.998703  "
      ]
     },
     "execution_count": 36,
     "metadata": {},
     "output_type": "execute_result"
    }
   ],
   "source": [
    "# Show results for decision tree classifier\n",
    "show_results(X_test, y_test, dt_clf, 1000)"
   ]
  },
  {
   "cell_type": "code",
   "execution_count": 37,
   "id": "87df59a4",
   "metadata": {},
   "outputs": [
    {
     "name": "stderr",
     "output_type": "stream",
     "text": [
      "100%|██████████| 1000/1000 [00:21<00:00, 46.35it/s]\n"
     ]
    }
   ],
   "source": [
    "rnd_acc = bootstrap(X_test, y_test, rnd_clf, accuracy_score, 1000)\n",
    "rnd_acc_ci = get_ci(rnd_acc)"
   ]
  },
  {
   "cell_type": "code",
   "execution_count": 38,
   "id": "42aec4e0",
   "metadata": {},
   "outputs": [
    {
     "name": "stdout",
     "output_type": "stream",
     "text": [
      "Random Forest Classifier Accuracy:\n"
     ]
    },
    {
     "data": {
      "text/html": [
       "<div>\n",
       "<style scoped>\n",
       "    .dataframe tbody tr th:only-of-type {\n",
       "        vertical-align: middle;\n",
       "    }\n",
       "\n",
       "    .dataframe tbody tr th {\n",
       "        vertical-align: top;\n",
       "    }\n",
       "\n",
       "    .dataframe thead th {\n",
       "        text-align: right;\n",
       "    }\n",
       "</style>\n",
       "<table border=\"1\" class=\"dataframe\">\n",
       "  <thead>\n",
       "    <tr style=\"text-align: right;\">\n",
       "      <th></th>\n",
       "      <th>median</th>\n",
       "      <th>lower 95% CI</th>\n",
       "      <th>upper 95% CI</th>\n",
       "    </tr>\n",
       "  </thead>\n",
       "  <tbody>\n",
       "    <tr>\n",
       "      <th>0</th>\n",
       "      <td>0.699482</td>\n",
       "      <td>0.65544</td>\n",
       "      <td>0.740997</td>\n",
       "    </tr>\n",
       "  </tbody>\n",
       "</table>\n",
       "</div>"
      ],
      "text/plain": [
       "     median  lower 95% CI  upper 95% CI\n",
       "0  0.699482       0.65544      0.740997"
      ]
     },
     "execution_count": 38,
     "metadata": {},
     "output_type": "execute_result"
    }
   ],
   "source": [
    "print('Random Forest Classifier Accuracy:')\n",
    "pd.DataFrame(np.array(rnd_acc_ci).reshape(1,3), columns=['median', 'lower 95% CI', 'upper 95% CI'])"
   ]
  },
  {
   "cell_type": "code",
   "execution_count": 39,
   "id": "f59a7644",
   "metadata": {},
   "outputs": [
    {
     "name": "stderr",
     "output_type": "stream",
     "text": [
      "100%|██████████| 1000/1000 [00:15<00:00, 65.96it/s]\n",
      "100%|██████████| 1000/1000 [00:16<00:00, 62.24it/s]\n",
      "100%|██████████| 1000/1000 [00:15<00:00, 63.83it/s]\n",
      "100%|██████████| 1000/1000 [00:16<00:00, 61.31it/s]\n",
      "100%|██████████| 1000/1000 [00:15<00:00, 64.08it/s]\n",
      "100%|██████████| 1000/1000 [00:21<00:00, 47.53it/s]\n",
      "100%|██████████| 1000/1000 [00:27<00:00, 36.59it/s]\n",
      "100%|██████████| 1000/1000 [00:23<00:00, 42.55it/s]\n",
      "100%|██████████| 1000/1000 [00:15<00:00, 64.21it/s]\n",
      "100%|██████████| 1000/1000 [00:15<00:00, 64.99it/s]\n",
      "100%|██████████| 1000/1000 [00:15<00:00, 65.44it/s]\n",
      "100%|██████████| 1000/1000 [00:15<00:00, 65.44it/s]\n",
      "100%|██████████| 1000/1000 [00:15<00:00, 65.21it/s]\n"
     ]
    },
    {
     "data": {
      "text/html": [
       "<div>\n",
       "<style scoped>\n",
       "    .dataframe tbody tr th:only-of-type {\n",
       "        vertical-align: middle;\n",
       "    }\n",
       "\n",
       "    .dataframe tbody tr th {\n",
       "        vertical-align: top;\n",
       "    }\n",
       "\n",
       "    .dataframe thead th {\n",
       "        text-align: right;\n",
       "    }\n",
       "</style>\n",
       "<table border=\"1\" class=\"dataframe\">\n",
       "  <thead>\n",
       "    <tr style=\"text-align: right;\">\n",
       "      <th></th>\n",
       "      <th>precision (median)</th>\n",
       "      <th>precision (lower 95% CI)</th>\n",
       "      <th>precision (upper 95% CI)</th>\n",
       "      <th>recall (median)</th>\n",
       "      <th>recall (lower 95% CI)</th>\n",
       "      <th>recall (upper 95% CI)</th>\n",
       "      <th>f1_score (median)</th>\n",
       "      <th>f1_score (lower 95% CI)</th>\n",
       "      <th>f1_score (upper 95% CI)</th>\n",
       "    </tr>\n",
       "  </thead>\n",
       "  <tbody>\n",
       "    <tr>\n",
       "      <th>PSMA</th>\n",
       "      <td>0.473684</td>\n",
       "      <td>0.310324</td>\n",
       "      <td>0.641026</td>\n",
       "      <td>0.309091</td>\n",
       "      <td>0.187474</td>\n",
       "      <td>0.437500</td>\n",
       "      <td>0.370752</td>\n",
       "      <td>0.247191</td>\n",
       "      <td>0.490597</td>\n",
       "    </tr>\n",
       "    <tr>\n",
       "      <th>conventional imaging</th>\n",
       "      <td>0.733333</td>\n",
       "      <td>0.594502</td>\n",
       "      <td>0.853681</td>\n",
       "      <td>0.362637</td>\n",
       "      <td>0.268234</td>\n",
       "      <td>0.461616</td>\n",
       "      <td>0.488369</td>\n",
       "      <td>0.380150</td>\n",
       "      <td>0.590604</td>\n",
       "    </tr>\n",
       "    <tr>\n",
       "      <th>active surveillance</th>\n",
       "      <td>0.758621</td>\n",
       "      <td>0.560000</td>\n",
       "      <td>0.916667</td>\n",
       "      <td>0.785714</td>\n",
       "      <td>0.592593</td>\n",
       "      <td>0.947434</td>\n",
       "      <td>0.766312</td>\n",
       "      <td>0.606061</td>\n",
       "      <td>0.880000</td>\n",
       "    </tr>\n",
       "    <tr>\n",
       "      <th>radical therapy</th>\n",
       "      <td>0.994819</td>\n",
       "      <td>0.987047</td>\n",
       "      <td>1.000000</td>\n",
       "      <td>1.000000</td>\n",
       "      <td>1.000000</td>\n",
       "      <td>1.000000</td>\n",
       "      <td>0.997403</td>\n",
       "      <td>0.993481</td>\n",
       "      <td>1.000000</td>\n",
       "    </tr>\n",
       "  </tbody>\n",
       "</table>\n",
       "</div>"
      ],
      "text/plain": [
       "                      precision (median)  precision (lower 95% CI)  \\\n",
       "PSMA                            0.473684                  0.310324   \n",
       "conventional imaging            0.733333                  0.594502   \n",
       "active surveillance             0.758621                  0.560000   \n",
       "radical therapy                 0.994819                  0.987047   \n",
       "\n",
       "                      precision (upper 95% CI)  recall (median)  \\\n",
       "PSMA                                  0.641026         0.309091   \n",
       "conventional imaging                  0.853681         0.362637   \n",
       "active surveillance                   0.916667         0.785714   \n",
       "radical therapy                       1.000000         1.000000   \n",
       "\n",
       "                      recall (lower 95% CI)  recall (upper 95% CI)  \\\n",
       "PSMA                               0.187474               0.437500   \n",
       "conventional imaging               0.268234               0.461616   \n",
       "active surveillance                0.592593               0.947434   \n",
       "radical therapy                    1.000000               1.000000   \n",
       "\n",
       "                      f1_score (median)  f1_score (lower 95% CI)  \\\n",
       "PSMA                           0.370752                 0.247191   \n",
       "conventional imaging           0.488369                 0.380150   \n",
       "active surveillance            0.766312                 0.606061   \n",
       "radical therapy                0.997403                 0.993481   \n",
       "\n",
       "                      f1_score (upper 95% CI)  \n",
       "PSMA                                 0.490597  \n",
       "conventional imaging                 0.590604  \n",
       "active surveillance                  0.880000  \n",
       "radical therapy                      1.000000  "
      ]
     },
     "execution_count": 39,
     "metadata": {},
     "output_type": "execute_result"
    }
   ],
   "source": [
    "show_results(X_test, y_test, rnd_clf, 1000)"
   ]
  },
  {
   "cell_type": "code",
   "execution_count": 40,
   "id": "f68325b1",
   "metadata": {},
   "outputs": [
    {
     "name": "stderr",
     "output_type": "stream",
     "text": [
      "100%|██████████| 1000/1000 [00:50<00:00, 19.66it/s]\n"
     ]
    }
   ],
   "source": [
    "knn_acc = bootstrap(X_test, y_test, knn_clf, accuracy_score, 1000)\n",
    "knn_acc_ci = get_ci(knn_acc)"
   ]
  },
  {
   "cell_type": "code",
   "execution_count": 41,
   "id": "ad2c4e35",
   "metadata": {},
   "outputs": [
    {
     "name": "stdout",
     "output_type": "stream",
     "text": [
      "K-Nearest Neighbour Classifier Accuracy:\n"
     ]
    },
    {
     "data": {
      "text/html": [
       "<div>\n",
       "<style scoped>\n",
       "    .dataframe tbody tr th:only-of-type {\n",
       "        vertical-align: middle;\n",
       "    }\n",
       "\n",
       "    .dataframe tbody tr th {\n",
       "        vertical-align: top;\n",
       "    }\n",
       "\n",
       "    .dataframe thead th {\n",
       "        text-align: right;\n",
       "    }\n",
       "</style>\n",
       "<table border=\"1\" class=\"dataframe\">\n",
       "  <thead>\n",
       "    <tr style=\"text-align: right;\">\n",
       "      <th></th>\n",
       "      <th>median</th>\n",
       "      <th>lower 95% CI</th>\n",
       "      <th>upper 95% CI</th>\n",
       "    </tr>\n",
       "  </thead>\n",
       "  <tbody>\n",
       "    <tr>\n",
       "      <th>0</th>\n",
       "      <td>0.668394</td>\n",
       "      <td>0.61658</td>\n",
       "      <td>0.715026</td>\n",
       "    </tr>\n",
       "  </tbody>\n",
       "</table>\n",
       "</div>"
      ],
      "text/plain": [
       "     median  lower 95% CI  upper 95% CI\n",
       "0  0.668394       0.61658      0.715026"
      ]
     },
     "execution_count": 41,
     "metadata": {},
     "output_type": "execute_result"
    }
   ],
   "source": [
    "print('K-Nearest Neighbour Classifier Accuracy:')\n",
    "pd.DataFrame(np.array(knn_acc_ci).reshape(1,3), columns=['median', 'lower 95% CI', 'upper 95% CI'])"
   ]
  },
  {
   "cell_type": "code",
   "execution_count": 42,
   "id": "feb9ee5a",
   "metadata": {},
   "outputs": [
    {
     "name": "stderr",
     "output_type": "stream",
     "text": [
      "100%|██████████| 1000/1000 [00:53<00:00, 18.82it/s]\n",
      "100%|██████████| 1000/1000 [00:54<00:00, 18.30it/s]\n",
      "100%|██████████| 1000/1000 [00:52<00:00, 18.96it/s]\n",
      "  1%|          | 10/1000 [00:00<00:51, 19.40it/s]c:\\Users\\sheri\\anaconda3\\envs\\datascience\\Lib\\site-packages\\sklearn\\metrics\\_classification.py:1531: UndefinedMetricWarning: Precision is ill-defined and being set to 0.0 due to no predicted samples. Use `zero_division` parameter to control this behavior.\n",
      "  _warn_prf(average, modifier, f\"{metric.capitalize()} is\", len(result))\n",
      "  2%|▏         | 22/1000 [00:01<00:55, 17.56it/s]c:\\Users\\sheri\\anaconda3\\envs\\datascience\\Lib\\site-packages\\sklearn\\metrics\\_classification.py:1531: UndefinedMetricWarning: Precision is ill-defined and being set to 0.0 due to no predicted samples. Use `zero_division` parameter to control this behavior.\n",
      "  _warn_prf(average, modifier, f\"{metric.capitalize()} is\", len(result))\n",
      "  2%|▏         | 24/1000 [00:01<00:54, 18.03it/s]c:\\Users\\sheri\\anaconda3\\envs\\datascience\\Lib\\site-packages\\sklearn\\metrics\\_classification.py:1531: UndefinedMetricWarning: Precision is ill-defined and being set to 0.0 due to no predicted samples. Use `zero_division` parameter to control this behavior.\n",
      "  _warn_prf(average, modifier, f\"{metric.capitalize()} is\", len(result))\n",
      "  4%|▍         | 40/1000 [00:02<00:50, 18.95it/s]c:\\Users\\sheri\\anaconda3\\envs\\datascience\\Lib\\site-packages\\sklearn\\metrics\\_classification.py:1531: UndefinedMetricWarning: Precision is ill-defined and being set to 0.0 due to no predicted samples. Use `zero_division` parameter to control this behavior.\n",
      "  _warn_prf(average, modifier, f\"{metric.capitalize()} is\", len(result))\n",
      "  5%|▍         | 49/1000 [00:02<00:50, 18.96it/s]c:\\Users\\sheri\\anaconda3\\envs\\datascience\\Lib\\site-packages\\sklearn\\metrics\\_classification.py:1531: UndefinedMetricWarning: Precision is ill-defined and being set to 0.0 due to no predicted samples. Use `zero_division` parameter to control this behavior.\n",
      "  _warn_prf(average, modifier, f\"{metric.capitalize()} is\", len(result))\n",
      "  5%|▌         | 51/1000 [00:02<00:50, 18.62it/s]c:\\Users\\sheri\\anaconda3\\envs\\datascience\\Lib\\site-packages\\sklearn\\metrics\\_classification.py:1531: UndefinedMetricWarning: Precision is ill-defined and being set to 0.0 due to no predicted samples. Use `zero_division` parameter to control this behavior.\n",
      "  _warn_prf(average, modifier, f\"{metric.capitalize()} is\", len(result))\n",
      " 10%|▉         | 99/1000 [00:05<00:49, 18.36it/s]c:\\Users\\sheri\\anaconda3\\envs\\datascience\\Lib\\site-packages\\sklearn\\metrics\\_classification.py:1531: UndefinedMetricWarning: Precision is ill-defined and being set to 0.0 due to no predicted samples. Use `zero_division` parameter to control this behavior.\n",
      "  _warn_prf(average, modifier, f\"{metric.capitalize()} is\", len(result))\n",
      " 10%|█         | 101/1000 [00:05<00:51, 17.43it/s]c:\\Users\\sheri\\anaconda3\\envs\\datascience\\Lib\\site-packages\\sklearn\\metrics\\_classification.py:1531: UndefinedMetricWarning: Precision is ill-defined and being set to 0.0 due to no predicted samples. Use `zero_division` parameter to control this behavior.\n",
      "  _warn_prf(average, modifier, f\"{metric.capitalize()} is\", len(result))\n",
      " 15%|█▌        | 150/1000 [00:08<00:45, 18.79it/s]c:\\Users\\sheri\\anaconda3\\envs\\datascience\\Lib\\site-packages\\sklearn\\metrics\\_classification.py:1531: UndefinedMetricWarning: Precision is ill-defined and being set to 0.0 due to no predicted samples. Use `zero_division` parameter to control this behavior.\n",
      "  _warn_prf(average, modifier, f\"{metric.capitalize()} is\", len(result))\n",
      " 16%|█▌        | 158/1000 [00:08<00:47, 17.88it/s]c:\\Users\\sheri\\anaconda3\\envs\\datascience\\Lib\\site-packages\\sklearn\\metrics\\_classification.py:1531: UndefinedMetricWarning: Precision is ill-defined and being set to 0.0 due to no predicted samples. Use `zero_division` parameter to control this behavior.\n",
      "  _warn_prf(average, modifier, f\"{metric.capitalize()} is\", len(result))\n",
      " 17%|█▋        | 168/1000 [00:09<00:43, 18.96it/s]c:\\Users\\sheri\\anaconda3\\envs\\datascience\\Lib\\site-packages\\sklearn\\metrics\\_classification.py:1531: UndefinedMetricWarning: Precision is ill-defined and being set to 0.0 due to no predicted samples. Use `zero_division` parameter to control this behavior.\n",
      "  _warn_prf(average, modifier, f\"{metric.capitalize()} is\", len(result))\n",
      " 19%|█▉        | 194/1000 [00:10<00:42, 18.97it/s]c:\\Users\\sheri\\anaconda3\\envs\\datascience\\Lib\\site-packages\\sklearn\\metrics\\_classification.py:1531: UndefinedMetricWarning: Precision is ill-defined and being set to 0.0 due to no predicted samples. Use `zero_division` parameter to control this behavior.\n",
      "  _warn_prf(average, modifier, f\"{metric.capitalize()} is\", len(result))\n",
      " 20%|██        | 204/1000 [00:10<00:41, 19.10it/s]c:\\Users\\sheri\\anaconda3\\envs\\datascience\\Lib\\site-packages\\sklearn\\metrics\\_classification.py:1531: UndefinedMetricWarning: Precision is ill-defined and being set to 0.0 due to no predicted samples. Use `zero_division` parameter to control this behavior.\n",
      "  _warn_prf(average, modifier, f\"{metric.capitalize()} is\", len(result))\n",
      " 25%|██▌       | 252/1000 [00:13<00:39, 18.85it/s]c:\\Users\\sheri\\anaconda3\\envs\\datascience\\Lib\\site-packages\\sklearn\\metrics\\_classification.py:1531: UndefinedMetricWarning: Precision is ill-defined and being set to 0.0 due to no predicted samples. Use `zero_division` parameter to control this behavior.\n",
      "  _warn_prf(average, modifier, f\"{metric.capitalize()} is\", len(result))\n",
      " 27%|██▋       | 268/1000 [00:14<00:37, 19.44it/s]c:\\Users\\sheri\\anaconda3\\envs\\datascience\\Lib\\site-packages\\sklearn\\metrics\\_classification.py:1531: UndefinedMetricWarning: Precision is ill-defined and being set to 0.0 due to no predicted samples. Use `zero_division` parameter to control this behavior.\n",
      "  _warn_prf(average, modifier, f\"{metric.capitalize()} is\", len(result))\n",
      " 30%|██▉       | 295/1000 [00:15<00:38, 18.41it/s]c:\\Users\\sheri\\anaconda3\\envs\\datascience\\Lib\\site-packages\\sklearn\\metrics\\_classification.py:1531: UndefinedMetricWarning: Precision is ill-defined and being set to 0.0 due to no predicted samples. Use `zero_division` parameter to control this behavior.\n",
      "  _warn_prf(average, modifier, f\"{metric.capitalize()} is\", len(result))\n",
      " 31%|███       | 311/1000 [00:16<00:36, 18.95it/s]c:\\Users\\sheri\\anaconda3\\envs\\datascience\\Lib\\site-packages\\sklearn\\metrics\\_classification.py:1531: UndefinedMetricWarning: Precision is ill-defined and being set to 0.0 due to no predicted samples. Use `zero_division` parameter to control this behavior.\n",
      "  _warn_prf(average, modifier, f\"{metric.capitalize()} is\", len(result))\n",
      " 32%|███▏      | 315/1000 [00:16<00:35, 19.35it/s]c:\\Users\\sheri\\anaconda3\\envs\\datascience\\Lib\\site-packages\\sklearn\\metrics\\_classification.py:1531: UndefinedMetricWarning: Precision is ill-defined and being set to 0.0 due to no predicted samples. Use `zero_division` parameter to control this behavior.\n",
      "  _warn_prf(average, modifier, f\"{metric.capitalize()} is\", len(result))\n",
      " 37%|███▋      | 371/1000 [00:19<00:33, 18.64it/s]c:\\Users\\sheri\\anaconda3\\envs\\datascience\\Lib\\site-packages\\sklearn\\metrics\\_classification.py:1531: UndefinedMetricWarning: Precision is ill-defined and being set to 0.0 due to no predicted samples. Use `zero_division` parameter to control this behavior.\n",
      "  _warn_prf(average, modifier, f\"{metric.capitalize()} is\", len(result))\n",
      " 39%|███▊      | 387/1000 [00:20<00:33, 18.49it/s]c:\\Users\\sheri\\anaconda3\\envs\\datascience\\Lib\\site-packages\\sklearn\\metrics\\_classification.py:1531: UndefinedMetricWarning: Precision is ill-defined and being set to 0.0 due to no predicted samples. Use `zero_division` parameter to control this behavior.\n",
      "  _warn_prf(average, modifier, f\"{metric.capitalize()} is\", len(result))\n",
      " 41%|████      | 407/1000 [00:21<00:31, 19.11it/s]c:\\Users\\sheri\\anaconda3\\envs\\datascience\\Lib\\site-packages\\sklearn\\metrics\\_classification.py:1531: UndefinedMetricWarning: Precision is ill-defined and being set to 0.0 due to no predicted samples. Use `zero_division` parameter to control this behavior.\n",
      "  _warn_prf(average, modifier, f\"{metric.capitalize()} is\", len(result))\n",
      " 46%|████▋     | 464/1000 [00:24<00:28, 19.07it/s]c:\\Users\\sheri\\anaconda3\\envs\\datascience\\Lib\\site-packages\\sklearn\\metrics\\_classification.py:1531: UndefinedMetricWarning: Precision is ill-defined and being set to 0.0 due to no predicted samples. Use `zero_division` parameter to control this behavior.\n",
      "  _warn_prf(average, modifier, f\"{metric.capitalize()} is\", len(result))\n",
      " 47%|████▋     | 468/1000 [00:25<00:28, 18.81it/s]c:\\Users\\sheri\\anaconda3\\envs\\datascience\\Lib\\site-packages\\sklearn\\metrics\\_classification.py:1531: UndefinedMetricWarning: Precision is ill-defined and being set to 0.0 due to no predicted samples. Use `zero_division` parameter to control this behavior.\n",
      "  _warn_prf(average, modifier, f\"{metric.capitalize()} is\", len(result))\n",
      " 48%|████▊     | 476/1000 [00:25<00:28, 18.70it/s]c:\\Users\\sheri\\anaconda3\\envs\\datascience\\Lib\\site-packages\\sklearn\\metrics\\_classification.py:1531: UndefinedMetricWarning: Precision is ill-defined and being set to 0.0 due to no predicted samples. Use `zero_division` parameter to control this behavior.\n",
      "  _warn_prf(average, modifier, f\"{metric.capitalize()} is\", len(result))\n",
      " 52%|█████▏    | 524/1000 [00:28<00:24, 19.51it/s]c:\\Users\\sheri\\anaconda3\\envs\\datascience\\Lib\\site-packages\\sklearn\\metrics\\_classification.py:1531: UndefinedMetricWarning: Precision is ill-defined and being set to 0.0 due to no predicted samples. Use `zero_division` parameter to control this behavior.\n",
      "  _warn_prf(average, modifier, f\"{metric.capitalize()} is\", len(result))\n",
      " 53%|█████▎    | 534/1000 [00:28<00:25, 18.63it/s]c:\\Users\\sheri\\anaconda3\\envs\\datascience\\Lib\\site-packages\\sklearn\\metrics\\_classification.py:1531: UndefinedMetricWarning: Precision is ill-defined and being set to 0.0 due to no predicted samples. Use `zero_division` parameter to control this behavior.\n",
      "  _warn_prf(average, modifier, f\"{metric.capitalize()} is\", len(result))\n",
      " 54%|█████▍    | 540/1000 [00:28<00:24, 19.04it/s]c:\\Users\\sheri\\anaconda3\\envs\\datascience\\Lib\\site-packages\\sklearn\\metrics\\_classification.py:1531: UndefinedMetricWarning: Precision is ill-defined and being set to 0.0 due to no predicted samples. Use `zero_division` parameter to control this behavior.\n",
      "  _warn_prf(average, modifier, f\"{metric.capitalize()} is\", len(result))\n",
      " 59%|█████▉    | 591/1000 [00:31<00:21, 18.70it/s]c:\\Users\\sheri\\anaconda3\\envs\\datascience\\Lib\\site-packages\\sklearn\\metrics\\_classification.py:1531: UndefinedMetricWarning: Precision is ill-defined and being set to 0.0 due to no predicted samples. Use `zero_division` parameter to control this behavior.\n",
      "  _warn_prf(average, modifier, f\"{metric.capitalize()} is\", len(result))\n",
      " 60%|█████▉    | 597/1000 [00:32<00:21, 19.15it/s]c:\\Users\\sheri\\anaconda3\\envs\\datascience\\Lib\\site-packages\\sklearn\\metrics\\_classification.py:1531: UndefinedMetricWarning: Precision is ill-defined and being set to 0.0 due to no predicted samples. Use `zero_division` parameter to control this behavior.\n",
      "  _warn_prf(average, modifier, f\"{metric.capitalize()} is\", len(result))\n",
      " 60%|██████    | 601/1000 [00:32<00:20, 19.47it/s]c:\\Users\\sheri\\anaconda3\\envs\\datascience\\Lib\\site-packages\\sklearn\\metrics\\_classification.py:1531: UndefinedMetricWarning: Precision is ill-defined and being set to 0.0 due to no predicted samples. Use `zero_division` parameter to control this behavior.\n",
      "  _warn_prf(average, modifier, f\"{metric.capitalize()} is\", len(result))\n",
      " 60%|██████    | 603/1000 [00:32<00:20, 19.53it/s]c:\\Users\\sheri\\anaconda3\\envs\\datascience\\Lib\\site-packages\\sklearn\\metrics\\_classification.py:1531: UndefinedMetricWarning: Precision is ill-defined and being set to 0.0 due to no predicted samples. Use `zero_division` parameter to control this behavior.\n",
      "  _warn_prf(average, modifier, f\"{metric.capitalize()} is\", len(result))\n",
      " 61%|██████    | 607/1000 [00:32<00:20, 19.50it/s]c:\\Users\\sheri\\anaconda3\\envs\\datascience\\Lib\\site-packages\\sklearn\\metrics\\_classification.py:1531: UndefinedMetricWarning: Precision is ill-defined and being set to 0.0 due to no predicted samples. Use `zero_division` parameter to control this behavior.\n",
      "  _warn_prf(average, modifier, f\"{metric.capitalize()} is\", len(result))\n",
      " 65%|██████▌   | 653/1000 [00:35<00:18, 18.78it/s]c:\\Users\\sheri\\anaconda3\\envs\\datascience\\Lib\\site-packages\\sklearn\\metrics\\_classification.py:1531: UndefinedMetricWarning: Precision is ill-defined and being set to 0.0 due to no predicted samples. Use `zero_division` parameter to control this behavior.\n",
      "  _warn_prf(average, modifier, f\"{metric.capitalize()} is\", len(result))\n",
      " 66%|██████▌   | 659/1000 [00:35<00:18, 18.83it/s]c:\\Users\\sheri\\anaconda3\\envs\\datascience\\Lib\\site-packages\\sklearn\\metrics\\_classification.py:1531: UndefinedMetricWarning: Precision is ill-defined and being set to 0.0 due to no predicted samples. Use `zero_division` parameter to control this behavior.\n",
      "  _warn_prf(average, modifier, f\"{metric.capitalize()} is\", len(result))\n",
      " 67%|██████▋   | 668/1000 [00:35<00:18, 18.13it/s]c:\\Users\\sheri\\anaconda3\\envs\\datascience\\Lib\\site-packages\\sklearn\\metrics\\_classification.py:1531: UndefinedMetricWarning: Precision is ill-defined and being set to 0.0 due to no predicted samples. Use `zero_division` parameter to control this behavior.\n",
      "  _warn_prf(average, modifier, f\"{metric.capitalize()} is\", len(result))\n",
      " 67%|██████▋   | 672/1000 [00:36<00:18, 18.08it/s]c:\\Users\\sheri\\anaconda3\\envs\\datascience\\Lib\\site-packages\\sklearn\\metrics\\_classification.py:1531: UndefinedMetricWarning: Precision is ill-defined and being set to 0.0 due to no predicted samples. Use `zero_division` parameter to control this behavior.\n",
      "  _warn_prf(average, modifier, f\"{metric.capitalize()} is\", len(result))\n",
      " 69%|██████▉   | 694/1000 [00:37<00:15, 19.22it/s]c:\\Users\\sheri\\anaconda3\\envs\\datascience\\Lib\\site-packages\\sklearn\\metrics\\_classification.py:1531: UndefinedMetricWarning: Precision is ill-defined and being set to 0.0 due to no predicted samples. Use `zero_division` parameter to control this behavior.\n",
      "  _warn_prf(average, modifier, f\"{metric.capitalize()} is\", len(result))\n",
      "c:\\Users\\sheri\\anaconda3\\envs\\datascience\\Lib\\site-packages\\sklearn\\metrics\\_classification.py:1531: UndefinedMetricWarning: Precision is ill-defined and being set to 0.0 due to no predicted samples. Use `zero_division` parameter to control this behavior.\n",
      "  _warn_prf(average, modifier, f\"{metric.capitalize()} is\", len(result))\n",
      " 70%|██████▉   | 698/1000 [00:37<00:16, 18.20it/s]c:\\Users\\sheri\\anaconda3\\envs\\datascience\\Lib\\site-packages\\sklearn\\metrics\\_classification.py:1531: UndefinedMetricWarning: Precision is ill-defined and being set to 0.0 due to no predicted samples. Use `zero_division` parameter to control this behavior.\n",
      "  _warn_prf(average, modifier, f\"{metric.capitalize()} is\", len(result))\n",
      " 75%|███████▌  | 754/1000 [00:40<00:12, 19.31it/s]c:\\Users\\sheri\\anaconda3\\envs\\datascience\\Lib\\site-packages\\sklearn\\metrics\\_classification.py:1531: UndefinedMetricWarning: Precision is ill-defined and being set to 0.0 due to no predicted samples. Use `zero_division` parameter to control this behavior.\n",
      "  _warn_prf(average, modifier, f\"{metric.capitalize()} is\", len(result))\n",
      " 77%|███████▋  | 773/1000 [00:41<00:11, 19.16it/s]c:\\Users\\sheri\\anaconda3\\envs\\datascience\\Lib\\site-packages\\sklearn\\metrics\\_classification.py:1531: UndefinedMetricWarning: Precision is ill-defined and being set to 0.0 due to no predicted samples. Use `zero_division` parameter to control this behavior.\n",
      "  _warn_prf(average, modifier, f\"{metric.capitalize()} is\", len(result))\n",
      " 78%|███████▊  | 783/1000 [00:41<00:11, 18.75it/s]c:\\Users\\sheri\\anaconda3\\envs\\datascience\\Lib\\site-packages\\sklearn\\metrics\\_classification.py:1531: UndefinedMetricWarning: Precision is ill-defined and being set to 0.0 due to no predicted samples. Use `zero_division` parameter to control this behavior.\n",
      "  _warn_prf(average, modifier, f\"{metric.capitalize()} is\", len(result))\n",
      " 93%|█████████▎| 928/1000 [00:49<00:03, 19.01it/s]c:\\Users\\sheri\\anaconda3\\envs\\datascience\\Lib\\site-packages\\sklearn\\metrics\\_classification.py:1531: UndefinedMetricWarning: Precision is ill-defined and being set to 0.0 due to no predicted samples. Use `zero_division` parameter to control this behavior.\n",
      "  _warn_prf(average, modifier, f\"{metric.capitalize()} is\", len(result))\n",
      " 96%|█████████▌| 961/1000 [00:51<00:01, 19.63it/s]c:\\Users\\sheri\\anaconda3\\envs\\datascience\\Lib\\site-packages\\sklearn\\metrics\\_classification.py:1531: UndefinedMetricWarning: Precision is ill-defined and being set to 0.0 due to no predicted samples. Use `zero_division` parameter to control this behavior.\n",
      "  _warn_prf(average, modifier, f\"{metric.capitalize()} is\", len(result))\n",
      " 97%|█████████▋| 967/1000 [00:51<00:01, 19.25it/s]c:\\Users\\sheri\\anaconda3\\envs\\datascience\\Lib\\site-packages\\sklearn\\metrics\\_classification.py:1531: UndefinedMetricWarning: Precision is ill-defined and being set to 0.0 due to no predicted samples. Use `zero_division` parameter to control this behavior.\n",
      "  _warn_prf(average, modifier, f\"{metric.capitalize()} is\", len(result))\n",
      " 98%|█████████▊| 983/1000 [00:52<00:00, 19.11it/s]c:\\Users\\sheri\\anaconda3\\envs\\datascience\\Lib\\site-packages\\sklearn\\metrics\\_classification.py:1531: UndefinedMetricWarning: Precision is ill-defined and being set to 0.0 due to no predicted samples. Use `zero_division` parameter to control this behavior.\n",
      "  _warn_prf(average, modifier, f\"{metric.capitalize()} is\", len(result))\n",
      "100%|██████████| 1000/1000 [00:53<00:00, 18.72it/s]\n",
      "100%|██████████| 1000/1000 [00:51<00:00, 19.25it/s]\n",
      "100%|██████████| 1000/1000 [00:51<00:00, 19.36it/s]\n",
      "100%|██████████| 1000/1000 [00:53<00:00, 18.82it/s]\n",
      "100%|██████████| 1000/1000 [00:53<00:00, 18.68it/s]\n",
      "100%|██████████| 1000/1000 [00:53<00:00, 18.59it/s]\n",
      "100%|██████████| 1000/1000 [00:52<00:00, 19.17it/s]\n",
      "100%|██████████| 1000/1000 [00:52<00:00, 18.99it/s]\n",
      "100%|██████████| 1000/1000 [00:52<00:00, 18.92it/s]\n",
      "100%|██████████| 1000/1000 [00:53<00:00, 18.85it/s]\n"
     ]
    },
    {
     "data": {
      "text/html": [
       "<div>\n",
       "<style scoped>\n",
       "    .dataframe tbody tr th:only-of-type {\n",
       "        vertical-align: middle;\n",
       "    }\n",
       "\n",
       "    .dataframe tbody tr th {\n",
       "        vertical-align: top;\n",
       "    }\n",
       "\n",
       "    .dataframe thead th {\n",
       "        text-align: right;\n",
       "    }\n",
       "</style>\n",
       "<table border=\"1\" class=\"dataframe\">\n",
       "  <thead>\n",
       "    <tr style=\"text-align: right;\">\n",
       "      <th></th>\n",
       "      <th>precision (median)</th>\n",
       "      <th>precision (lower 95% CI)</th>\n",
       "      <th>precision (upper 95% CI)</th>\n",
       "      <th>recall (median)</th>\n",
       "      <th>recall (lower 95% CI)</th>\n",
       "      <th>recall (upper 95% CI)</th>\n",
       "      <th>f1_score (median)</th>\n",
       "      <th>f1_score (lower 95% CI)</th>\n",
       "      <th>f1_score (upper 95% CI)</th>\n",
       "    </tr>\n",
       "  </thead>\n",
       "  <tbody>\n",
       "    <tr>\n",
       "      <th>PSMA</th>\n",
       "      <td>0.500000</td>\n",
       "      <td>0.285714</td>\n",
       "      <td>0.700000</td>\n",
       "      <td>0.189655</td>\n",
       "      <td>0.096131</td>\n",
       "      <td>0.300034</td>\n",
       "      <td>0.274755</td>\n",
       "      <td>0.140314</td>\n",
       "      <td>0.413113</td>\n",
       "    </tr>\n",
       "    <tr>\n",
       "      <th>conventional imaging</th>\n",
       "      <td>0.611526</td>\n",
       "      <td>0.491220</td>\n",
       "      <td>0.742481</td>\n",
       "      <td>0.387298</td>\n",
       "      <td>0.287004</td>\n",
       "      <td>0.489136</td>\n",
       "      <td>0.472973</td>\n",
       "      <td>0.373006</td>\n",
       "      <td>0.562973</td>\n",
       "    </tr>\n",
       "    <tr>\n",
       "      <th>active surveillance</th>\n",
       "      <td>1.000000</td>\n",
       "      <td>0.000000</td>\n",
       "      <td>1.000000</td>\n",
       "      <td>0.130435</td>\n",
       "      <td>0.000000</td>\n",
       "      <td>0.291667</td>\n",
       "      <td>0.222222</td>\n",
       "      <td>0.000000</td>\n",
       "      <td>0.451686</td>\n",
       "    </tr>\n",
       "    <tr>\n",
       "      <th>radical therapy</th>\n",
       "      <td>0.994819</td>\n",
       "      <td>0.987047</td>\n",
       "      <td>1.000000</td>\n",
       "      <td>1.000000</td>\n",
       "      <td>1.000000</td>\n",
       "      <td>1.000000</td>\n",
       "      <td>0.997403</td>\n",
       "      <td>0.993481</td>\n",
       "      <td>1.000000</td>\n",
       "    </tr>\n",
       "  </tbody>\n",
       "</table>\n",
       "</div>"
      ],
      "text/plain": [
       "                      precision (median)  precision (lower 95% CI)  \\\n",
       "PSMA                            0.500000                  0.285714   \n",
       "conventional imaging            0.611526                  0.491220   \n",
       "active surveillance             1.000000                  0.000000   \n",
       "radical therapy                 0.994819                  0.987047   \n",
       "\n",
       "                      precision (upper 95% CI)  recall (median)  \\\n",
       "PSMA                                  0.700000         0.189655   \n",
       "conventional imaging                  0.742481         0.387298   \n",
       "active surveillance                   1.000000         0.130435   \n",
       "radical therapy                       1.000000         1.000000   \n",
       "\n",
       "                      recall (lower 95% CI)  recall (upper 95% CI)  \\\n",
       "PSMA                               0.096131               0.300034   \n",
       "conventional imaging               0.287004               0.489136   \n",
       "active surveillance                0.000000               0.291667   \n",
       "radical therapy                    1.000000               1.000000   \n",
       "\n",
       "                      f1_score (median)  f1_score (lower 95% CI)  \\\n",
       "PSMA                           0.274755                 0.140314   \n",
       "conventional imaging           0.472973                 0.373006   \n",
       "active surveillance            0.222222                 0.000000   \n",
       "radical therapy                0.997403                 0.993481   \n",
       "\n",
       "                      f1_score (upper 95% CI)  \n",
       "PSMA                                 0.413113  \n",
       "conventional imaging                 0.562973  \n",
       "active surveillance                  0.451686  \n",
       "radical therapy                      1.000000  "
      ]
     },
     "execution_count": 42,
     "metadata": {},
     "output_type": "execute_result"
    }
   ],
   "source": [
    "show_results(X_test, y_test, knn_clf, 1000)"
   ]
  },
  {
   "cell_type": "markdown",
   "id": "7676f6e0",
   "metadata": {},
   "source": [
    "# Visualizations"
   ]
  },
  {
   "cell_type": "code",
   "execution_count": 43,
   "id": "768f32f6",
   "metadata": {},
   "outputs": [],
   "source": [
    "feature_labels =['Age',\n",
    "                 'PSA',\n",
    "                 'DRE',\n",
    "                 'Site',\n",
    "                 'ISUP\\ncategory',\n",
    "                 'Cylinder\\npositive',\n",
    "                 'Cylinder\\ntotal',\n",
    "                 'Hypertension',\n",
    "                 'Diabetes\\nmellitus',\n",
    "                 'CAD',\n",
    "                 'BMI',\n",
    "                 'Preop'\n",
    "                 ]"
   ]
  },
  {
   "cell_type": "code",
   "execution_count": null,
   "id": "9492e633",
   "metadata": {},
   "outputs": [
    {
     "data": {
      "text/html": [
       "<div>\n",
       "<style scoped>\n",
       "    .dataframe tbody tr th:only-of-type {\n",
       "        vertical-align: middle;\n",
       "    }\n",
       "\n",
       "    .dataframe tbody tr th {\n",
       "        vertical-align: top;\n",
       "    }\n",
       "\n",
       "    .dataframe thead th {\n",
       "        text-align: right;\n",
       "    }\n",
       "</style>\n",
       "<table border=\"1\" class=\"dataframe\">\n",
       "  <thead>\n",
       "    <tr style=\"text-align: right;\">\n",
       "      <th></th>\n",
       "      <th>Age</th>\n",
       "      <th>PSA</th>\n",
       "      <th>DRE</th>\n",
       "      <th>Site</th>\n",
       "      <th>ISUP\\ncategory</th>\n",
       "      <th>Cylinder\\npositive</th>\n",
       "      <th>Cylinder\\ntotal</th>\n",
       "      <th>Hypertension</th>\n",
       "      <th>Diabetes\\nmellitus</th>\n",
       "      <th>CAD</th>\n",
       "      <th>BMI</th>\n",
       "      <th>Preop</th>\n",
       "    </tr>\n",
       "  </thead>\n",
       "  <tbody>\n",
       "    <tr>\n",
       "      <th>0</th>\n",
       "      <td>5.942283</td>\n",
       "      <td>28.805834</td>\n",
       "      <td>2.005627</td>\n",
       "      <td>1.705327</td>\n",
       "      <td>51.875587</td>\n",
       "      <td>5.051109</td>\n",
       "      <td>2.872814</td>\n",
       "      <td>0.0</td>\n",
       "      <td>0.0</td>\n",
       "      <td>1.195813</td>\n",
       "      <td>0.545606</td>\n",
       "      <td>0.0</td>\n",
       "    </tr>\n",
       "  </tbody>\n",
       "</table>\n",
       "</div>"
      ],
      "text/plain": [
       "        Age        PSA       DRE      Site  ISUP\\ncategory  \\\n",
       "0  5.942283  28.805834  2.005627  1.705327       51.875587   \n",
       "\n",
       "   Cylinder\\npositive  Cylinder\\ntotal  Hypertension  Diabetes\\nmellitus  \\\n",
       "0            5.051109         2.872814           0.0                 0.0   \n",
       "\n",
       "        CAD       BMI  Preop  \n",
       "0  1.195813  0.545606    0.0  "
      ]
     },
     "execution_count": 53,
     "metadata": {},
     "output_type": "execute_result"
    }
   ],
   "source": [
    "pd.DataFrame(dt_clf.feature_importances_.reshape(1, len(dt_clf.feature_importances_))*100, columns=feature_labels)"
   ]
  },
  {
   "cell_type": "code",
   "execution_count": 55,
   "id": "16d91557",
   "metadata": {},
   "outputs": [
    {
     "data": {
      "image/png": "[encoded data removed]",
      "text/plain": [
       "<Figure size 1500x900 with 1 Axes>"
      ]
     },
     "metadata": {},
     "output_type": "display_data"
    }
   ],
   "source": [
    "plt.figure(figsize=(15,9))\n",
    "plt.bar([x for x in range(len(dt_clf.feature_importances_))], dt_clf.feature_importances_*100, tick_label=feature_labels)\n",
    "plt.xlabel(\"Predictors\")\n",
    "plt.ylabel(\"Contribution\")\n",
    "plt.show()"
   ]
  },
  {
   "cell_type": "code",
   "execution_count": 57,
   "id": "980b5569",
   "metadata": {},
   "outputs": [
    {
     "data": {
      "text/html": [
       "<div>\n",
       "<style scoped>\n",
       "    .dataframe tbody tr th:only-of-type {\n",
       "        vertical-align: middle;\n",
       "    }\n",
       "\n",
       "    .dataframe tbody tr th {\n",
       "        vertical-align: top;\n",
       "    }\n",
       "\n",
       "    .dataframe thead th {\n",
       "        text-align: right;\n",
       "    }\n",
       "</style>\n",
       "<table border=\"1\" class=\"dataframe\">\n",
       "  <thead>\n",
       "    <tr style=\"text-align: right;\">\n",
       "      <th></th>\n",
       "      <th>Age</th>\n",
       "      <th>PSA</th>\n",
       "      <th>DRE</th>\n",
       "      <th>Site</th>\n",
       "      <th>ISUP\\ncategory</th>\n",
       "      <th>Cylinder\\npositive</th>\n",
       "      <th>Cylinder\\ntotal</th>\n",
       "      <th>Hypertension</th>\n",
       "      <th>Diabetes\\nmellitus</th>\n",
       "      <th>CAD</th>\n",
       "      <th>BMI</th>\n",
       "      <th>Preop</th>\n",
       "    </tr>\n",
       "  </thead>\n",
       "  <tbody>\n",
       "    <tr>\n",
       "      <th>0</th>\n",
       "      <td>13.959254</td>\n",
       "      <td>24.650472</td>\n",
       "      <td>4.167505</td>\n",
       "      <td>3.547087</td>\n",
       "      <td>24.60172</td>\n",
       "      <td>11.644014</td>\n",
       "      <td>9.028029</td>\n",
       "      <td>2.854429</td>\n",
       "      <td>1.316657</td>\n",
       "      <td>1.00197</td>\n",
       "      <td>0.510168</td>\n",
       "      <td>2.718694</td>\n",
       "    </tr>\n",
       "  </tbody>\n",
       "</table>\n",
       "</div>"
      ],
      "text/plain": [
       "         Age        PSA       DRE      Site  ISUP\\ncategory  \\\n",
       "0  13.959254  24.650472  4.167505  3.547087        24.60172   \n",
       "\n",
       "   Cylinder\\npositive  Cylinder\\ntotal  Hypertension  Diabetes\\nmellitus  \\\n",
       "0           11.644014         9.028029      2.854429            1.316657   \n",
       "\n",
       "       CAD       BMI     Preop  \n",
       "0  1.00197  0.510168  2.718694  "
      ]
     },
     "execution_count": 57,
     "metadata": {},
     "output_type": "execute_result"
    }
   ],
   "source": [
    "pd.DataFrame(rnd_clf.feature_importances_.reshape(1, len(rnd_clf.feature_importances_))*100, columns=feature_labels)"
   ]
  },
  {
   "cell_type": "code",
   "execution_count": 56,
   "id": "69655d29",
   "metadata": {},
   "outputs": [
    {
     "data": {
      "image/png": "[encoded data removed]",
      "text/plain": [
       "<Figure size 1500x900 with 1 Axes>"
      ]
     },
     "metadata": {},
     "output_type": "display_data"
    }
   ],
   "source": [
    "importances = rnd_clf.feature_importances_\n",
    "plt.figure(figsize=(15,9))\n",
    "plt.bar([x for x in range(len(rnd_clf.feature_importances_))], rnd_clf.feature_importances_*100, tick_label=feature_labels)\n",
    "plt.xlabel(\"Predictors\")\n",
    "plt.ylabel(\"Contribution\")\n",
    "plt.show()"
   ]
  },
  {
   "cell_type": "code",
   "execution_count": 48,
   "id": "615fe7ab",
   "metadata": {},
   "outputs": [
    {
     "data": {
      "text/html": [
       "<style>#sk-container-id-1 {\n",
       "  /* Definition of color scheme common for light and dark mode */\n",
       "  --sklearn-color-text: black;\n",
       "  --sklearn-color-line: gray;\n",
       "  /* Definition of color scheme for unfitted estimators */\n",
       "  --sklearn-color-unfitted-level-0: #fff5e6;\n",
       "  --sklearn-color-unfitted-level-1: #f6e4d2;\n",
       "  --sklearn-color-unfitted-level-2: #ffe0b3;\n",
       "  --sklearn-color-unfitted-level-3: chocolate;\n",
       "  /* Definition of color scheme for fitted estimators */\n",
       "  --sklearn-color-fitted-level-0: #f0f8ff;\n",
       "  --sklearn-color-fitted-level-1: #d4ebff;\n",
       "  --sklearn-color-fitted-level-2: #b3dbfd;\n",
       "  --sklearn-color-fitted-level-3: cornflowerblue;\n",
       "\n",
       "  /* Specific color for light theme */\n",
       "  --sklearn-color-text-on-default-background: var(--sg-text-color, var(--theme-code-foreground, var(--jp-content-font-color1, black)));\n",
       "  --sklearn-color-background: var(--sg-background-color, var(--theme-background, var(--jp-layout-color0, white)));\n",
       "  --sklearn-color-border-box: var(--sg-text-color, var(--theme-code-foreground, var(--jp-content-font-color1, black)));\n",
       "  --sklearn-color-icon: #696969;\n",
       "\n",
       "  @media (prefers-color-scheme: dark) {\n",
       "    /* Redefinition of color scheme for dark theme */\n",
       "    --sklearn-color-text-on-default-background: var(--sg-text-color, var(--theme-code-foreground, var(--jp-content-font-color1, white)));\n",
       "    --sklearn-color-background: var(--sg-background-color, var(--theme-background, var(--jp-layout-color0, #111)));\n",
       "    --sklearn-color-border-box: var(--sg-text-color, var(--theme-code-foreground, var(--jp-content-font-color1, white)));\n",
       "    --sklearn-color-icon: #878787;\n",
       "  }\n",
       "}\n",
       "\n",
       "#sk-container-id-1 {\n",
       "  color: var(--sklearn-color-text);\n",
       "}\n",
       "\n",
       "#sk-container-id-1 pre {\n",
       "  padding: 0;\n",
       "}\n",
       "\n",
       "#sk-container-id-1 input.sk-hidden--visually {\n",
       "  border: 0;\n",
       "  clip: rect(1px 1px 1px 1px);\n",
       "  clip: rect(1px, 1px, 1px, 1px);\n",
       "  height: 1px;\n",
       "  margin: -1px;\n",
       "  overflow: hidden;\n",
       "  padding: 0;\n",
       "  position: absolute;\n",
       "  width: 1px;\n",
       "}\n",
       "\n",
       "#sk-container-id-1 div.sk-dashed-wrapped {\n",
       "  border: 1px dashed var(--sklearn-color-line);\n",
       "  margin: 0 0.4em 0.5em 0.4em;\n",
       "  box-sizing: border-box;\n",
       "  padding-bottom: 0.4em;\n",
       "  background-color: var(--sklearn-color-background);\n",
       "}\n",
       "\n",
       "#sk-container-id-1 div.sk-container {\n",
       "  /* jupyter's `normalize.less` sets `[hidden] { display: none; }`\n",
       "     but bootstrap.min.css set `[hidden] { display: none !important; }`\n",
       "     so we also need the `!important` here to be able to override the\n",
       "     default hidden behavior on the sphinx rendered scikit-learn.org.\n",
       "     See: https://github.com/scikit-learn/scikit-learn/issues/21755 */\n",
       "  display: inline-block !important;\n",
       "  position: relative;\n",
       "}\n",
       "\n",
       "#sk-container-id-1 div.sk-text-repr-fallback {\n",
       "  display: none;\n",
       "}\n",
       "\n",
       "div.sk-parallel-item,\n",
       "div.sk-serial,\n",
       "div.sk-item {\n",
       "  /* draw centered vertical line to link estimators */\n",
       "  background-image: linear-gradient(var(--sklearn-color-text-on-default-background), var(--sklearn-color-text-on-default-background));\n",
       "  background-size: 2px 100%;\n",
       "  background-repeat: no-repeat;\n",
       "  background-position: center center;\n",
       "}\n",
       "\n",
       "/* Parallel-specific style estimator block */\n",
       "\n",
       "#sk-container-id-1 div.sk-parallel-item::after {\n",
       "  content: \"\";\n",
       "  width: 100%;\n",
       "  border-bottom: 2px solid var(--sklearn-color-text-on-default-background);\n",
       "  flex-grow: 1;\n",
       "}\n",
       "\n",
       "#sk-container-id-1 div.sk-parallel {\n",
       "  display: flex;\n",
       "  align-items: stretch;\n",
       "  justify-content: center;\n",
       "  background-color: var(--sklearn-color-background);\n",
       "  position: relative;\n",
       "}\n",
       "\n",
       "#sk-container-id-1 div.sk-parallel-item {\n",
       "  display: flex;\n",
       "  flex-direction: column;\n",
       "}\n",
       "\n",
       "#sk-container-id-1 div.sk-parallel-item:first-child::after {\n",
       "  align-self: flex-end;\n",
       "  width: 50%;\n",
       "}\n",
       "\n",
       "#sk-container-id-1 div.sk-parallel-item:last-child::after {\n",
       "  align-self: flex-start;\n",
       "  width: 50%;\n",
       "}\n",
       "\n",
       "#sk-container-id-1 div.sk-parallel-item:only-child::after {\n",
       "  width: 0;\n",
       "}\n",
       "\n",
       "/* Serial-specific style estimator block */\n",
       "\n",
       "#sk-container-id-1 div.sk-serial {\n",
       "  display: flex;\n",
       "  flex-direction: column;\n",
       "  align-items: center;\n",
       "  background-color: var(--sklearn-color-background);\n",
       "  padding-right: 1em;\n",
       "  padding-left: 1em;\n",
       "}\n",
       "\n",
       "\n",
       "/* Toggleable style: style used for estimator/Pipeline/ColumnTransformer box that is\n",
       "clickable and can be expanded/collapsed.\n",
       "- Pipeline and ColumnTransformer use this feature and define the default style\n",
       "- Estimators will overwrite some part of the style using the `sk-estimator` class\n",
       "*/\n",
       "\n",
       "/* Pipeline and ColumnTransformer style (default) */\n",
       "\n",
       "#sk-container-id-1 div.sk-toggleable {\n",
       "  /* Default theme specific background. It is overwritten whether we have a\n",
       "  specific estimator or a Pipeline/ColumnTransformer */\n",
       "  background-color: var(--sklearn-color-background);\n",
       "}\n",
       "\n",
       "/* Toggleable label */\n",
       "#sk-container-id-1 label.sk-toggleable__label {\n",
       "  cursor: pointer;\n",
       "  display: block;\n",
       "  width: 100%;\n",
       "  margin-bottom: 0;\n",
       "  padding: 0.5em;\n",
       "  box-sizing: border-box;\n",
       "  text-align: center;\n",
       "}\n",
       "\n",
       "#sk-container-id-1 label.sk-toggleable__label-arrow:before {\n",
       "  /* Arrow on the left of the label */\n",
       "  content: \"▸\";\n",
       "  float: left;\n",
       "  margin-right: 0.25em;\n",
       "  color: var(--sklearn-color-icon);\n",
       "}\n",
       "\n",
       "#sk-container-id-1 label.sk-toggleable__label-arrow:hover:before {\n",
       "  color: var(--sklearn-color-text);\n",
       "}\n",
       "\n",
       "/* Toggleable content - dropdown */\n",
       "\n",
       "#sk-container-id-1 div.sk-toggleable__content {\n",
       "  max-height: 0;\n",
       "  max-width: 0;\n",
       "  overflow: hidden;\n",
       "  text-align: left;\n",
       "  /* unfitted */\n",
       "  background-color: var(--sklearn-color-unfitted-level-0);\n",
       "}\n",
       "\n",
       "#sk-container-id-1 div.sk-toggleable__content.fitted {\n",
       "  /* fitted */\n",
       "  background-color: var(--sklearn-color-fitted-level-0);\n",
       "}\n",
       "\n",
       "#sk-container-id-1 div.sk-toggleable__content pre {\n",
       "  margin: 0.2em;\n",
       "  border-radius: 0.25em;\n",
       "  color: var(--sklearn-color-text);\n",
       "  /* unfitted */\n",
       "  background-color: var(--sklearn-color-unfitted-level-0);\n",
       "}\n",
       "\n",
       "#sk-container-id-1 div.sk-toggleable__content.fitted pre {\n",
       "  /* unfitted */\n",
       "  background-color: var(--sklearn-color-fitted-level-0);\n",
       "}\n",
       "\n",
       "#sk-container-id-1 input.sk-toggleable__control:checked~div.sk-toggleable__content {\n",
       "  /* Expand drop-down */\n",
       "  max-height: 200px;\n",
       "  max-width: 100%;\n",
       "  overflow: auto;\n",
       "}\n",
       "\n",
       "#sk-container-id-1 input.sk-toggleable__control:checked~label.sk-toggleable__label-arrow:before {\n",
       "  content: \"▾\";\n",
       "}\n",
       "\n",
       "/* Pipeline/ColumnTransformer-specific style */\n",
       "\n",
       "#sk-container-id-1 div.sk-label input.sk-toggleable__control:checked~label.sk-toggleable__label {\n",
       "  color: var(--sklearn-color-text);\n",
       "  background-color: var(--sklearn-color-unfitted-level-2);\n",
       "}\n",
       "\n",
       "#sk-container-id-1 div.sk-label.fitted input.sk-toggleable__control:checked~label.sk-toggleable__label {\n",
       "  background-color: var(--sklearn-color-fitted-level-2);\n",
       "}\n",
       "\n",
       "/* Estimator-specific style */\n",
       "\n",
       "/* Colorize estimator box */\n",
       "#sk-container-id-1 div.sk-estimator input.sk-toggleable__control:checked~label.sk-toggleable__label {\n",
       "  /* unfitted */\n",
       "  background-color: var(--sklearn-color-unfitted-level-2);\n",
       "}\n",
       "\n",
       "#sk-container-id-1 div.sk-estimator.fitted input.sk-toggleable__control:checked~label.sk-toggleable__label {\n",
       "  /* fitted */\n",
       "  background-color: var(--sklearn-color-fitted-level-2);\n",
       "}\n",
       "\n",
       "#sk-container-id-1 div.sk-label label.sk-toggleable__label,\n",
       "#sk-container-id-1 div.sk-label label {\n",
       "  /* The background is the default theme color */\n",
       "  color: var(--sklearn-color-text-on-default-background);\n",
       "}\n",
       "\n",
       "/* On hover, darken the color of the background */\n",
       "#sk-container-id-1 div.sk-label:hover label.sk-toggleable__label {\n",
       "  color: var(--sklearn-color-text);\n",
       "  background-color: var(--sklearn-color-unfitted-level-2);\n",
       "}\n",
       "\n",
       "/* Label box, darken color on hover, fitted */\n",
       "#sk-container-id-1 div.sk-label.fitted:hover label.sk-toggleable__label.fitted {\n",
       "  color: var(--sklearn-color-text);\n",
       "  background-color: var(--sklearn-color-fitted-level-2);\n",
       "}\n",
       "\n",
       "/* Estimator label */\n",
       "\n",
       "#sk-container-id-1 div.sk-label label {\n",
       "  font-family: monospace;\n",
       "  font-weight: bold;\n",
       "  display: inline-block;\n",
       "  line-height: 1.2em;\n",
       "}\n",
       "\n",
       "#sk-container-id-1 div.sk-label-container {\n",
       "  text-align: center;\n",
       "}\n",
       "\n",
       "/* Estimator-specific */\n",
       "#sk-container-id-1 div.sk-estimator {\n",
       "  font-family: monospace;\n",
       "  border: 1px dotted var(--sklearn-color-border-box);\n",
       "  border-radius: 0.25em;\n",
       "  box-sizing: border-box;\n",
       "  margin-bottom: 0.5em;\n",
       "  /* unfitted */\n",
       "  background-color: var(--sklearn-color-unfitted-level-0);\n",
       "}\n",
       "\n",
       "#sk-container-id-1 div.sk-estimator.fitted {\n",
       "  /* fitted */\n",
       "  background-color: var(--sklearn-color-fitted-level-0);\n",
       "}\n",
       "\n",
       "/* on hover */\n",
       "#sk-container-id-1 div.sk-estimator:hover {\n",
       "  /* unfitted */\n",
       "  background-color: var(--sklearn-color-unfitted-level-2);\n",
       "}\n",
       "\n",
       "#sk-container-id-1 div.sk-estimator.fitted:hover {\n",
       "  /* fitted */\n",
       "  background-color: var(--sklearn-color-fitted-level-2);\n",
       "}\n",
       "\n",
       "/* Specification for estimator info (e.g. \"i\" and \"?\") */\n",
       "\n",
       "/* Common style for \"i\" and \"?\" */\n",
       "\n",
       ".sk-estimator-doc-link,\n",
       "a:link.sk-estimator-doc-link,\n",
       "a:visited.sk-estimator-doc-link {\n",
       "  float: right;\n",
       "  font-size: smaller;\n",
       "  line-height: 1em;\n",
       "  font-family: monospace;\n",
       "  background-color: var(--sklearn-color-background);\n",
       "  border-radius: 1em;\n",
       "  height: 1em;\n",
       "  width: 1em;\n",
       "  text-decoration: none !important;\n",
       "  margin-left: 1ex;\n",
       "  /* unfitted */\n",
       "  border: var(--sklearn-color-unfitted-level-1) 1pt solid;\n",
       "  color: var(--sklearn-color-unfitted-level-1);\n",
       "}\n",
       "\n",
       ".sk-estimator-doc-link.fitted,\n",
       "a:link.sk-estimator-doc-link.fitted,\n",
       "a:visited.sk-estimator-doc-link.fitted {\n",
       "  /* fitted */\n",
       "  border: var(--sklearn-color-fitted-level-1) 1pt solid;\n",
       "  color: var(--sklearn-color-fitted-level-1);\n",
       "}\n",
       "\n",
       "/* On hover */\n",
       "div.sk-estimator:hover .sk-estimator-doc-link:hover,\n",
       ".sk-estimator-doc-link:hover,\n",
       "div.sk-label-container:hover .sk-estimator-doc-link:hover,\n",
       ".sk-estimator-doc-link:hover {\n",
       "  /* unfitted */\n",
       "  background-color: var(--sklearn-color-unfitted-level-3);\n",
       "  color: var(--sklearn-color-background);\n",
       "  text-decoration: none;\n",
       "}\n",
       "\n",
       "div.sk-estimator.fitted:hover .sk-estimator-doc-link.fitted:hover,\n",
       ".sk-estimator-doc-link.fitted:hover,\n",
       "div.sk-label-container:hover .sk-estimator-doc-link.fitted:hover,\n",
       ".sk-estimator-doc-link.fitted:hover {\n",
       "  /* fitted */\n",
       "  background-color: var(--sklearn-color-fitted-level-3);\n",
       "  color: var(--sklearn-color-background);\n",
       "  text-decoration: none;\n",
       "}\n",
       "\n",
       "/* Span, style for the box shown on hovering the info icon */\n",
       ".sk-estimator-doc-link span {\n",
       "  display: none;\n",
       "  z-index: 9999;\n",
       "  position: relative;\n",
       "  font-weight: normal;\n",
       "  right: .2ex;\n",
       "  padding: .5ex;\n",
       "  margin: .5ex;\n",
       "  width: min-content;\n",
       "  min-width: 20ex;\n",
       "  max-width: 50ex;\n",
       "  color: var(--sklearn-color-text);\n",
       "  box-shadow: 2pt 2pt 4pt #999;\n",
       "  /* unfitted */\n",
       "  background: var(--sklearn-color-unfitted-level-0);\n",
       "  border: .5pt solid var(--sklearn-color-unfitted-level-3);\n",
       "}\n",
       "\n",
       ".sk-estimator-doc-link.fitted span {\n",
       "  /* fitted */\n",
       "  background: var(--sklearn-color-fitted-level-0);\n",
       "  border: var(--sklearn-color-fitted-level-3);\n",
       "}\n",
       "\n",
       ".sk-estimator-doc-link:hover span {\n",
       "  display: block;\n",
       "}\n",
       "\n",
       "/* \"?\"-specific style due to the `<a>` HTML tag */\n",
       "\n",
       "#sk-container-id-1 a.estimator_doc_link {\n",
       "  float: right;\n",
       "  font-size: 1rem;\n",
       "  line-height: 1em;\n",
       "  font-family: monospace;\n",
       "  background-color: var(--sklearn-color-background);\n",
       "  border-radius: 1rem;\n",
       "  height: 1rem;\n",
       "  width: 1rem;\n",
       "  text-decoration: none;\n",
       "  /* unfitted */\n",
       "  color: var(--sklearn-color-unfitted-level-1);\n",
       "  border: var(--sklearn-color-unfitted-level-1) 1pt solid;\n",
       "}\n",
       "\n",
       "#sk-container-id-1 a.estimator_doc_link.fitted {\n",
       "  /* fitted */\n",
       "  border: var(--sklearn-color-fitted-level-1) 1pt solid;\n",
       "  color: var(--sklearn-color-fitted-level-1);\n",
       "}\n",
       "\n",
       "/* On hover */\n",
       "#sk-container-id-1 a.estimator_doc_link:hover {\n",
       "  /* unfitted */\n",
       "  background-color: var(--sklearn-color-unfitted-level-3);\n",
       "  color: var(--sklearn-color-background);\n",
       "  text-decoration: none;\n",
       "}\n",
       "\n",
       "#sk-container-id-1 a.estimator_doc_link.fitted:hover {\n",
       "  /* fitted */\n",
       "  background-color: var(--sklearn-color-fitted-level-3);\n",
       "}\n",
       "</style><div id=\"sk-container-id-1\" class=\"sk-top-container\"><div class=\"sk-text-repr-fallback\"><pre>DecisionTreeClassifier(criterion=&#x27;entropy&#x27;, max_depth=3, random_state=6)</pre><b>In a Jupyter environment, please rerun this cell to show the HTML representation or trust the notebook. <br />On GitHub, the HTML representation is unable to render, please try loading this page with nbviewer.org.</b></div><div class=\"sk-container\" hidden><div class=\"sk-item\"><div class=\"sk-estimator fitted sk-toggleable\"><input class=\"sk-toggleable__control sk-hidden--visually\" id=\"sk-estimator-id-1\" type=\"checkbox\" checked><label for=\"sk-estimator-id-1\" class=\"sk-toggleable__label fitted sk-toggleable__label-arrow fitted\">&nbsp;&nbsp;DecisionTreeClassifier<a class=\"sk-estimator-doc-link fitted\" rel=\"noreferrer\" target=\"_blank\" href=\"https://scikit-learn.org/1.5/modules/generated/sklearn.tree.DecisionTreeClassifier.html\">?<span>Documentation for DecisionTreeClassifier</span></a><span class=\"sk-estimator-doc-link fitted\">i<span>Fitted</span></span></label><div class=\"sk-toggleable__content fitted\"><pre>DecisionTreeClassifier(criterion=&#x27;entropy&#x27;, max_depth=3, random_state=6)</pre></div> </div></div></div></div>"
      ],
      "text/plain": [
       "DecisionTreeClassifier(criterion='entropy', max_depth=3, random_state=6)"
      ]
     },
     "execution_count": 48,
     "metadata": {},
     "output_type": "execute_result"
    }
   ],
   "source": [
    "# Train DecisionTree model for demo\n",
    "dt_clf_demo = DecisionTreeClassifier(max_depth=3, criterion=\"entropy\", random_state=random_state)\n",
    "dt_clf_demo.fit(X_train, y_train)"
   ]
  },
  {
   "cell_type": "code",
   "execution_count": 49,
   "id": "7f2d7f4e",
   "metadata": {
    "scrolled": true
   },
   "outputs": [
    {
     "data": {
      "image/png": "[encoded data removed]",
      "text/plain": [
       "<Figure size 1500x1000 with 1 Axes>"
      ]
     },
     "metadata": {},
     "output_type": "display_data"
    }
   ],
   "source": [
    "from sklearn import tree\n",
    "\n",
    "plt.figure(figsize=(15,10))\n",
    "_ = tree.plot_tree(dt_clf_demo, feature_names=feature_cols, filled=True)"
   ]
  }
 ],
 "metadata": {
  "kernelspec": {
   "display_name": "datascience",
   "language": "python",
   "name": "python3"
  },
  "language_info": {
   "codemirror_mode": {
    "name": "ipython",
    "version": 3
   },
   "file_extension": ".py",
   "mimetype": "text/x-python",
   "name": "python",
   "nbconvert_exporter": "python",
   "pygments_lexer": "ipython3",
   "version": "3.11.5"
  }
 },
 "nbformat": 4,
 "nbformat_minor": 5
}
